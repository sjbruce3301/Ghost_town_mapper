{
 "cells": [
  {
   "cell_type": "code",
   "execution_count": 3,
   "metadata": {},
   "outputs": [
    {
     "name": "stdout",
     "output_type": "stream",
     "text": [
      "Requirement already satisfied: tdqm in /Library/Frameworks/Python.framework/Versions/3.10/lib/python3.10/site-packages (0.0.1)\n",
      "Requirement already satisfied: tqdm in /Library/Frameworks/Python.framework/Versions/3.10/lib/python3.10/site-packages (from tdqm) (4.64.1)\n",
      "\n",
      "\u001b[1m[\u001b[0m\u001b[34;49mnotice\u001b[0m\u001b[1;39;49m]\u001b[0m\u001b[39;49m A new release of pip is available: \u001b[0m\u001b[31;49m23.0\u001b[0m\u001b[39;49m -> \u001b[0m\u001b[32;49m25.1.1\u001b[0m\n",
      "\u001b[1m[\u001b[0m\u001b[34;49mnotice\u001b[0m\u001b[1;39;49m]\u001b[0m\u001b[39;49m To update, run: \u001b[0m\u001b[32;49mpip3 install --upgrade pip\u001b[0m\n",
      "Note: you may need to restart the kernel to use updated packages.\n",
      "Found 63 town entries.\n"
     ]
    },
    {
     "name": "stderr",
     "output_type": "stream",
     "text": [
      "Processing towns: 100%|██████████| 63/63 [00:19<00:00,  3.20town/s]"
     ]
    },
    {
     "name": "stdout",
     "output_type": "stream",
     "text": [
      "47 towns had coordinates.\n",
      "KML saved to: /tmp/new_mexico_ghost_towns_progress.kml\n"
     ]
    },
    {
     "name": "stderr",
     "output_type": "stream",
     "text": [
      "\n"
     ]
    },
    {
     "data": {
      "text/html": [
       "<a href='/tmp/new_mexico_ghost_towns_progress.kml' target='_blank'>/tmp/new_mexico_ghost_towns_progress.kml</a><br>"
      ],
      "text/plain": [
       "/tmp/new_mexico_ghost_towns_progress.kml"
      ]
     },
     "execution_count": 3,
     "metadata": {},
     "output_type": "execute_result"
    }
   ],
   "source": [
    "%pip install tdqm\n",
    "import requests\n",
    "from bs4 import BeautifulSoup\n",
    "from simplekml import Kml\n",
    "from IPython.display import FileLink\n",
    "import re\n",
    "from urllib.parse import urljoin\n",
    "from tqdm import tqdm  # progress bar\n",
    "\n",
    "BASE_URL = \"https://en.wikipedia.org\"\n",
    "LIST_URL = BASE_URL + \"/wiki/List_of_ghost_towns_in_Wyoming\"\n",
    "HEADERS = {\"User-Agent\": \"Mozilla/5.0\"}\n",
    "\n",
    "def get_all_town_links_with_optional_status():\n",
    "    \"\"\"Get all town names, links, and status (if present).\"\"\"\n",
    "    response = requests.get(LIST_URL, headers=HEADERS)\n",
    "    soup = BeautifulSoup(response.text, \"html.parser\")\n",
    "    towns = []\n",
    "\n",
    "    rows = soup.select(\"table.wikitable tbody tr\")[1:]  # skip header\n",
    "    for row in rows:\n",
    "        cols = row.find_all(\"td\")\n",
    "        if len(cols) >= 1:\n",
    "            name_tag = cols[0].find(\"a\")\n",
    "            if name_tag and \"href\" in name_tag.attrs:\n",
    "                name = name_tag.text.strip()\n",
    "                url = urljoin(BASE_URL, name_tag[\"href\"])\n",
    "                status = cols[6].text.strip() if len(cols) >= 6 else \"Unknown\" #change column for status here\n",
    "                towns.append((name, url, status))\n",
    "    return towns\n",
    "\n",
    "def extract_coordinates(town_url):\n",
    "    \"\"\"Get coordinates from the town's Wikipedia page.\"\"\"\n",
    "    try:\n",
    "        response = requests.get(town_url, headers=HEADERS, timeout=10)\n",
    "        soup = BeautifulSoup(response.text, \"html.parser\")\n",
    "\n",
    "        geo = soup.select_one(\"span.geo\")\n",
    "        if geo:\n",
    "            lat_str, lon_str = geo.text.split(\";\")\n",
    "            return float(lat_str.strip()), float(lon_str.strip())\n",
    "\n",
    "        geohack = soup.find(\"a\", href=re.compile(\"geohack\"))\n",
    "        if geohack:\n",
    "            match = re.search(r'([\\d.]+);([\\d.]+)', geohack.text)\n",
    "            if match:\n",
    "                return float(match.group(1)), float(match.group(2))\n",
    "    except Exception:\n",
    "        return None, None\n",
    "\n",
    "    return None, None\n",
    "\n",
    "# Get list of towns\n",
    "towns = get_all_town_links_with_optional_status()\n",
    "print(f\"Found {len(towns)} town entries.\")\n",
    "\n",
    "# Generate KML with progress bar\n",
    "kml = Kml()\n",
    "count = 0\n",
    "\n",
    "for name, url, status in tqdm(towns, desc=\"Processing towns\", unit=\"town\"):\n",
    "    lat, lon = extract_coordinates(url)\n",
    "    if lat is not None and lon is not None:\n",
    "        pnt = kml.newpoint(name=name, coords=[(lon, lat)])\n",
    "        pnt.description = f\"{status}<br><a href='{url}' target='_blank'>Wikipedia page</a>\"\n",
    "        count += 1\n",
    "\n",
    "print(f\"{count} towns had coordinates.\")\n",
    "\n",
    "# Save to file\n",
    "output_path = \"/tmp/new_mexico_ghost_towns_progress.kml\"\n",
    "kml.save(output_path)\n",
    "print(f\"KML saved to: {output_path}\")\n",
    "\n",
    "FileLink(output_path)\n"
   ]
  },
  {
   "cell_type": "code",
   "execution_count": null,
   "metadata": {},
   "outputs": [],
   "source": []
  }
 ],
 "metadata": {
  "kernelspec": {
   "display_name": "Python 3",
   "language": "python",
   "name": "python3"
  },
  "language_info": {
   "codemirror_mode": {
    "name": "ipython",
    "version": 3
   },
   "file_extension": ".py",
   "mimetype": "text/x-python",
   "name": "python",
   "nbconvert_exporter": "python",
   "pygments_lexer": "ipython3",
   "version": "3.10.6"
  }
 },
 "nbformat": 4,
 "nbformat_minor": 2
}
