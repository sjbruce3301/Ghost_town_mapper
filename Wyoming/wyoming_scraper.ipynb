{
 "cells": [
  {
   "cell_type": "code",
   "execution_count": 1,
   "metadata": {},
   "outputs": [
    {
     "name": "stdout",
     "output_type": "stream",
     "text": [
      "Saved page HTML to /tmp/debug_page.html\n",
      "Found 25 <h3> tags on the page.\n",
      "Sample town name: Atlantic City\n",
      "Sample town name: Bear River City\n",
      "Sample town name: Benton\n",
      "Sample town name: Bessemer\n",
      "Sample town name: Bryan\n"
     ]
    }
   ],
   "source": [
    "#Checking if the sites working, this particular site is kinda weird\n",
    "\n",
    "import requests\n",
    "from bs4 import BeautifulSoup\n",
    "\n",
    "headers = {\n",
    "    \"User-Agent\": \"Mozilla/5.0 (Windows NT 10.0; Win64; x64) \"\n",
    "                  \"AppleWebKit/537.36 (KHTML, like Gecko) \"\n",
    "                  \"Chrome/115.0.0.0 Safari/537.36\"\n",
    "}\n",
    "\n",
    "url = \"https://sites.rootsweb.com/~wytttp/ghosttowns.htm\"\n",
    "response = requests.get(url, headers=headers)\n",
    "response.encoding = \"ISO-8859-1\"\n",
    "html = response.text\n",
    "\n",
    "#Save HTML to a file you can inspect\n",
    "with open(\"/tmp/debug_page.html\", \"w\", encoding=\"utf-8\") as f:\n",
    "    f.write(html)\n",
    "print(\"Saved page HTML to /tmp/debug_page.html\")\n",
    "\n",
    "#Parse and count h3 tags\n",
    "soup = BeautifulSoup(html, \"html.parser\")\n",
    "h3_tags = soup.find_all(\"h3\")\n",
    "print(f\"Found {len(h3_tags)} <h3> tags on the page.\")\n",
    "for tag in h3_tags[:5]:\n",
    "    print(\"Sample town name:\", tag.get_text(strip=True))\n"
   ]
  },
  {
   "cell_type": "code",
   "execution_count": 2,
   "metadata": {},
   "outputs": [
    {
     "name": "stdout",
     "output_type": "stream",
     "text": [
      "Found 23 ghost towns.\n",
      "KML saved to: /tmp/wyoming_ghost_towns.kml\n"
     ]
    },
    {
     "data": {
      "text/html": [
       "<a href='/tmp/wyoming_ghost_towns.kml' target='_blank'>/tmp/wyoming_ghost_towns.kml</a><br>"
      ],
      "text/plain": [
       "/tmp/wyoming_ghost_towns.kml"
      ]
     },
     "execution_count": 2,
     "metadata": {},
     "output_type": "execute_result"
    }
   ],
   "source": [
    "import requests\n",
    "from bs4 import BeautifulSoup\n",
    "from simplekml import Kml\n",
    "from IPython.display import FileLink\n",
    "import re\n",
    "\n",
    "def dms_to_decimal(deg, minute, sec, direction):\n",
    "    decimal = float(deg) + float(minute) / 60 + float(sec) / 3600\n",
    "    if direction in ['S', 'W']:\n",
    "        decimal = -decimal\n",
    "    return decimal\n",
    "\n",
    "def parse_dms(dms_text):\n",
    "    parts = re.findall(r'(\\d+)°(\\d+)\\'([\\d.]+)\"?\\s*([NSEW])', dms_text)\n",
    "    if len(parts) == 2:\n",
    "        (d1, m1, s1, dir1), (d2, m2, s2, dir2) = parts\n",
    "        lat = dms_to_decimal(d1, m1, s1, dir1)\n",
    "        lon = dms_to_decimal(d2, m2, s2, dir2)\n",
    "        return lat, lon\n",
    "    return None, None\n",
    "\n",
    "url = \"https://sites.rootsweb.com/~wytttp/ghosttowns.htm\"\n",
    "headers = {\n",
    "    \"User-Agent\": \"Mozilla/5.0\"\n",
    "}\n",
    "response = requests.get(url, headers=headers)\n",
    "response.encoding = \"ISO-8859-1\"\n",
    "soup = BeautifulSoup(response.text, \"html.parser\")\n",
    "\n",
    "towns = []\n",
    "\n",
    "for h3 in soup.find_all(\"h3\"):\n",
    "    name = h3.get_text(strip=True)\n",
    "    coord_tag = h3.find_next(\"a\", href=True)\n",
    "    if not coord_tag:\n",
    "        continue\n",
    "    coord_text = coord_tag.get_text(strip=True)\n",
    "    lat, lon = parse_dms(coord_text)\n",
    "    if lat is None or lon is None:\n",
    "        continue\n",
    "\n",
    "    status = \"Unknown\"\n",
    "    next_text = coord_tag.find_next(string=True)\n",
    "    while next_text and (not next_text.strip() or next_text.parent.name in ['a', 'h3']):\n",
    "        next_text = next_text.find_next(string=True)\n",
    "    if next_text:\n",
    "        status = next_text.strip()\n",
    "\n",
    "    towns.append((name, lat, lon, status))\n",
    "\n",
    "print(f\"Found {len(towns)} ghost towns.\")\n",
    "\n",
    "#Create KML file\n",
    "kml = Kml()\n",
    "for name, lat, lon, status in towns:\n",
    "    pnt = kml.newpoint(name=name, coords=[(lon, lat)])\n",
    "    pnt.description = status\n",
    "\n",
    "output_path = \"/tmp/wyoming_ghost_towns.kml\"\n",
    "kml.save(output_path)\n",
    "print(f\"KML saved to: {output_path}\")\n",
    "\n",
    "FileLink(output_path)\n"
   ]
  },
  {
   "cell_type": "code",
   "execution_count": null,
   "metadata": {},
   "outputs": [],
   "source": []
  }
 ],
 "metadata": {
  "kernelspec": {
   "display_name": "Python 3",
   "language": "python",
   "name": "python3"
  },
  "language_info": {
   "codemirror_mode": {
    "name": "ipython",
    "version": 3
   },
   "file_extension": ".py",
   "mimetype": "text/x-python",
   "name": "python",
   "nbconvert_exporter": "python",
   "pygments_lexer": "ipython3",
   "version": "3.10.6"
  }
 },
 "nbformat": 4,
 "nbformat_minor": 2
}
