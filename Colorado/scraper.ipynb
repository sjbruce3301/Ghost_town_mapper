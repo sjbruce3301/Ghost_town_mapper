{
 "cells": [
  {
   "cell_type": "code",
   "execution_count": 1,
   "metadata": {},
   "outputs": [],
   "source": [
    "import requests\n",
    "from bs4 import BeautifulSoup\n",
    "from simplekml import Kml\n",
    "from IPython.display import FileLink"
   ]
  },
  {
   "cell_type": "code",
   "execution_count": 2,
   "metadata": {},
   "outputs": [
    {
     "name": "stdout",
     "output_type": "stream",
     "text": [
      "Found 200 ghost towns with coordinates and status.\n"
     ]
    }
   ],
   "source": [
    "# URL of the ghost towns in  - change for diff state\n",
    "URL = \"https://en.wikipedia.org/wiki/List_of_ghost_towns_in_Colorado\"\n",
    "response = requests.get(URL)\n",
    "soup = BeautifulSoup(response.content, \"html.parser\")\n",
    "\n",
    "towns = []\n",
    "\n",
    "for geo in soup.find_all(\"span\", class_=\"geo\"):\n",
    "    try:\n",
    "        lat, lon = map(float, geo.text.split(\";\"))\n",
    "    except ValueError:\n",
    "        continue\n",
    "\n",
    "    row = geo.find_parent(\"tr\")\n",
    "    if row:\n",
    "        cells = row.find_all(\"td\")\n",
    "\n",
    "        # make sure youre pulling the actual town name, even if inside a hyperlink\n",
    "        name_tag = row.find(\"a\")\n",
    "        name = name_tag.get_text(strip=True) if name_tag else (cells[0].get_text(strip=True) if cells else \"Unnamed Town\")\n",
    "\n",
    "        # Status cell - on the CO page it's cell 7 but change this if you're using a different page.\n",
    "        status = cells[7].get_text(strip=True) if len(cells) > 7 else \"Unknown\"\n",
    "    else:\n",
    "        name = \"Unnamed Town\"\n",
    "        status = \"Unknown\"\n",
    "\n",
    "    towns.append((name, lat, lon, status))\n",
    "\n",
    "print(f\"Found {len(towns)} ghost towns with coordinates and status.\") # so we know how many we got!"
   ]
  },
  {
   "cell_type": "code",
   "execution_count": 3,
   "metadata": {},
   "outputs": [
    {
     "name": "stdout",
     "output_type": "stream",
     "text": [
      "KML saved to: /tmp/ghost_towns.kml\n"
     ]
    },
    {
     "data": {
      "text/html": [
       "<a href='/tmp/ghost_towns.kml' target='_blank'>/tmp/ghost_towns.kml</a><br>"
      ],
      "text/plain": [
       "/tmp/ghost_towns.kml"
      ]
     },
     "execution_count": 3,
     "metadata": {},
     "output_type": "execute_result"
    }
   ],
   "source": [
    "#Create KML file\n",
    "kml = Kml()\n",
    "for name, lat, lon, status in towns:\n",
    "    pnt = kml.newpoint(name=name, coords=[(lon, lat)])\n",
    "    pnt.description = f\"Status: {status}\"\n",
    "\n",
    "# Save to a temporary path for later downloadd\n",
    "output_path = \"/tmp/ghost_towns.kml\"\n",
    "kml.save(output_path)\n",
    "print(f\"KML saved to: {output_path}\")\n",
    "\n",
    "# click this output link to open the KML file, if necessary you can cahnge this to just print the actual KML contents then copy pastee into a text file (but still save it as .kml when you're done)\n",
    "FileLink(output_path)"
   ]
  },
  {
   "cell_type": "code",
   "execution_count": null,
   "metadata": {},
   "outputs": [],
   "source": []
  }
 ],
 "metadata": {
  "kernelspec": {
   "display_name": "Python 3",
   "language": "python",
   "name": "python3"
  },
  "language_info": {
   "codemirror_mode": {
    "name": "ipython",
    "version": 3
   },
   "file_extension": ".py",
   "mimetype": "text/x-python",
   "name": "python",
   "nbconvert_exporter": "python",
   "pygments_lexer": "ipython3",
   "version": "3.10.6"
  }
 },
 "nbformat": 4,
 "nbformat_minor": 2
}
